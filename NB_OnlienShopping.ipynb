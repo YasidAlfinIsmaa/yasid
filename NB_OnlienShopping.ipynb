{
 "cells": [
  {
   "cell_type": "code",
   "execution_count": 33,
   "id": "5f730528-e102-4fd8-b877-312b6ba698e3",
   "metadata": {},
   "outputs": [
    {
     "data": {
      "image/png": "[encoded data removed]",
      "text/plain": [
       "<Figure size 600x400 with 2 Axes>"
      ]
     },
     "metadata": {},
     "output_type": "display_data"
    },
    {
     "name": "stdout",
     "output_type": "stream",
     "text": [
      "Confusion Matrix:\n",
      " [[17  0]\n",
      " [ 3 10]]\n",
      "\n",
      "Classification Report:\n",
      "               precision    recall  f1-score   support\n",
      "\n",
      "     Negatif       0.85      1.00      0.92        17\n",
      "     Positif       1.00      0.77      0.87        13\n",
      "\n",
      "    accuracy                           0.90        30\n",
      "   macro avg       0.93      0.88      0.89        30\n",
      "weighted avg       0.91      0.90      0.90        30\n",
      "\n"
     ]
    }
   ],
   "source": [
    "import pandas as pd\n",
    "import matplotlib.pyplot as plt     # ← penting!\n",
    "import seaborn as sns\n",
    "from sklearn.model_selection import train_test_split\n",
    "from sklearn.naive_bayes import GaussianNB\n",
    "from sklearn.metrics import classification_report, confusion_matrix\n",
    "\n",
    "# =======================\n",
    "# Load dataset\n",
    "# =======================\n",
    "df = pd.read_csv(\"dataset_review_toko_online.csv\")\n",
    "\n",
    "# =======================\n",
    "# Pisahkan fitur dan label\n",
    "# =======================\n",
    "X = df[[\"Murah\", \"Cepat\", \"Puas\"]]\n",
    "y = df[\"Label\"]\n",
    "\n",
    "# =======================\n",
    "# Split data untuk training dan testing\n",
    "# =======================\n",
    "X_train, X_test, y_train, y_test = train_test_split(\n",
    "    X, y, test_size=0.3, random_state=42)\n",
    "\n",
    "# =======================\n",
    "# Buat model Naive Bayes Gaussian\n",
    "# =======================\n",
    "model = GaussianNB()\n",
    "model.fit(X_train, y_train)\n",
    "\n",
    "# =======================\n",
    "# Prediksi dan evaluasi\n",
    "# =======================\n",
    "y_pred = model.predict(X_test)\n",
    "\n",
    "# Buat confusion matrix\n",
    "cm = confusion_matrix(y_test, y_pred, labels=[\"Negatif\", \"Positif\"])\n",
    "\n",
    "# =======================\n",
    "# Visualisasi Confusion Matrix\n",
    "# =======================\n",
    "def plot_confusion_matrix(cm, labels):\n",
    "    plt.figure(figsize=(6, 4))\n",
    "    sns.heatmap(cm, annot=True, fmt='d', cmap='Blues',\n",
    "                xticklabels=labels, yticklabels=labels)\n",
    "    plt.xlabel('Predicted')\n",
    "    plt.ylabel('Actual')\n",
    "    plt.title('Confusion Matrix')\n",
    "    plt.show()\n",
    "\n",
    "# Tampilkan confusion matrix\n",
    "plot_confusion_matrix(cm, [\"Negatif\", \"Positif\"])\n",
    "\n",
    "# Cetak Confusion Matrix dan Classification Report\n",
    "print(\"Confusion Matrix:\\n\", cm)\n",
    "print(\"\\nClassification Report:\\n\", classification_report(y_test, y_pred))\n"
   ]
  },
  {
   "cell_type": "code",
   "execution_count": null,
   "id": "008a57bd-5503-44df-80e1-a1e23edd8ff9",
   "metadata": {},
   "outputs": [],
   "source": []
  }
 ],
 "metadata": {
  "kernelspec": {
   "display_name": "Python 3 (ipykernel)",
   "language": "python",
   "name": "python3"
  },
  "language_info": {
   "codemirror_mode": {
    "name": "ipython",
    "version": 3
   },
   "file_extension": ".py",
   "mimetype": "text/x-python",
   "name": "python",
   "nbconvert_exporter": "python",
   "pygments_lexer": "ipython3",
   "version": "3.12.3"
  }
 },
 "nbformat": 4,
 "nbformat_minor": 5
}
